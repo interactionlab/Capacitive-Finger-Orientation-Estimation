{
 "cells": [
  {
   "cell_type": "markdown",
   "metadata": {},
   "source": [
    "# Keras implementaion for the Finger Orientaion Model\n",
    "\n",
    "This model was not used in the paper, we model has some slight variations to the paper model. In contrast to the paper, here we use an RMSprop optimizer with a declining learning rate. Hyperparameter of the optimizer are randomly chosen and are not tuned to achieve the best result."
   ]
  },
  {
   "cell_type": "code",
   "execution_count": 1,
   "metadata": {},
   "outputs": [],
   "source": [
    "import pandas as pd\n",
    "import numpy as np\n",
    "\n",
    "import matplotlib.pyplot as plt\n",
    "%matplotlib inline\n",
    "\n",
    "import tensorflow as tf\n",
    "\n",
    "\n",
    "physical_devices = tf.config.experimental.list_physical_devices('GPU')\n",
    "#assert len(physical_devices) > 0, \"Not enough GPU hardware devices available\"\n",
    "tf.config.set_visible_devices(physical_devices[0], 'GPU')\n",
    "tf.config.experimental.set_memory_growth(physical_devices[0], True)"
   ]
  },
  {
   "cell_type": "code",
   "execution_count": 2,
   "metadata": {},
   "outputs": [
    {
     "data": {
      "text/plain": [
       "'2.8.0'"
      ]
     },
     "execution_count": 2,
     "metadata": {},
     "output_type": "execute_result"
    }
   ],
   "source": [
    "tf.__version__"
   ]
  },
  {
   "cell_type": "code",
   "execution_count": 3,
   "metadata": {},
   "outputs": [
    {
     "name": "stdout",
     "output_type": "stream",
     "text": [
      "CPU times: user 1.69 s, sys: 1.85 s, total: 3.54 s\n",
      "Wall time: 3.54 s\n"
     ]
    }
   ],
   "source": [
    "%%time\n",
    "df = pd.read_pickle('./data/all_data.pkl')"
   ]
  },
  {
   "cell_type": "code",
   "execution_count": 4,
   "metadata": {},
   "outputs": [],
   "source": [
    "df.MatrixCroppedSameSize = df.MatrixCroppedSameSize.apply(lambda x: np.multiply(x, 1.0 / 255.0))\n",
    "\n",
    "if (tf.keras.backend.image_data_format() == 'channels_last'):\n",
    "    df.MatrixCroppedSameSize = df.MatrixCroppedSameSize.apply(lambda x: x.reshape(22,15,1))\n",
    "else:\n",
    "    df.MatrixCroppedSameSize = df.MatrixCroppedSameSize.apply(lambda x: x.reshape(1,22,15))"
   ]
  },
  {
   "cell_type": "code",
   "execution_count": 5,
   "metadata": {},
   "outputs": [
    {
     "name": "stdout",
     "output_type": "stream",
     "text": [
      "Participants in the train data set [ 1  2  3  4  5  6  7  8  9 10 11 12 13 14 15 16 17 18 19 20 21 22 23 24\n",
      " 25 26]\n",
      "Participants in the  test data set [27 28 29 30 31 32 33]\n"
     ]
    }
   ],
   "source": [
    "split = (80, 20)\n",
    "ps = np.array(sorted(df.Participant.unique()))\n",
    "num_pt = len(ps)\n",
    "x1 = (int)(np.floor(len(ps) * split[0] / 100.0))\n",
    "split_train = ps[:x1]\n",
    "x2 = (int)(np.floor(len(ps) * split[1] / 100.0))\n",
    "split_test = ps[x1:]\n",
    "dfTest = df[df.Participant.isin(split_test)]\n",
    "dfTrain = df[df.Participant.isin(split_train)]\n",
    "print(\"Participants in the train data set %s\" % split_train)\n",
    "print(\"Participants in the  test data set %s\" % split_test)"
   ]
  },
  {
   "cell_type": "code",
   "execution_count": 6,
   "metadata": {},
   "outputs": [
    {
     "name": "stdout",
     "output_type": "stream",
     "text": [
      "Shape of the imapge to tain: (22, 15, 1)\n"
     ]
    }
   ],
   "source": [
    "input_shape = dfTest.iloc[0].MatrixCroppedSameSize.shape\n",
    "\n",
    "print(\"Shape of the imapge to tain: \" + str(input_shape))"
   ]
  },
  {
   "cell_type": "code",
   "execution_count": 7,
   "metadata": {},
   "outputs": [
    {
     "name": "stdout",
     "output_type": "stream",
     "text": [
      "CPU times: user 1.13 s, sys: 142 ms, total: 1.27 s\n",
      "Wall time: 1.27 s\n"
     ]
    }
   ],
   "source": [
    "%%time\n",
    "x_train = np.stack(dfTrain.MatrixCroppedSameSize.values, axis=0)\n",
    "y_train = np.stack(dfTrain[[\"Pitch\", \"Yaw\"]].values, axis=0)\n",
    "x_test  = np.stack(dfTest.MatrixCroppedSameSize.values, axis=0)\n",
    "y_test  = np.stack(dfTest[[\"Pitch\", \"Yaw\"]].values, axis=0)"
   ]
  },
  {
   "cell_type": "code",
   "execution_count": 8,
   "metadata": {},
   "outputs": [
    {
     "name": "stdout",
     "output_type": "stream",
     "text": [
      "Model: \"sequential\"\n",
      "_________________________________________________________________\n",
      " Layer (type)                Output Shape              Param #   \n",
      "=================================================================\n",
      " conv2d (Conv2D)             (None, 22, 15, 32)        1184      \n",
      "                                                                 \n",
      " max_pooling2d (MaxPooling2D  (None, 11, 8, 32)        0         \n",
      " )                                                               \n",
      "                                                                 \n",
      " conv2d_1 (Conv2D)           (None, 11, 8, 72)         83016     \n",
      "                                                                 \n",
      " max_pooling2d_1 (MaxPooling  (None, 6, 4, 72)         0         \n",
      " 2D)                                                             \n",
      "                                                                 \n",
      " conv2d_2 (Conv2D)           (None, 6, 4, 160)         564640    \n",
      "                                                                 \n",
      " max_pooling2d_2 (MaxPooling  (None, 3, 2, 160)        0         \n",
      " 2D)                                                             \n",
      "                                                                 \n",
      " flatten (Flatten)           (None, 960)               0         \n",
      "                                                                 \n",
      " dense (Dense)               (None, 2000)              1922000   \n",
      "                                                                 \n",
      " dense_1 (Dense)             (None, 2)                 4002      \n",
      "                                                                 \n",
      "=================================================================\n",
      "Total params: 2,574,842\n",
      "Trainable params: 2,574,842\n",
      "Non-trainable params: 0\n",
      "_________________________________________________________________\n"
     ]
    },
    {
     "name": "stderr",
     "output_type": "stream",
     "text": [
      "2022-05-12 03:58:13.976046: I tensorflow/core/platform/cpu_feature_guard.cc:151] This TensorFlow binary is optimized with oneAPI Deep Neural Network Library (oneDNN) to use the following CPU instructions in performance-critical operations:  AVX2 AVX512F FMA\n",
      "To enable them in other operations, rebuild TensorFlow with the appropriate compiler flags.\n",
      "2022-05-12 03:58:14.546815: I tensorflow/core/common_runtime/gpu/gpu_device.cc:1525] Created device /job:localhost/replica:0/task:0/device:GPU:0 with 30990 MB memory:  -> device: 0, name: Tesla V100-SXM2-32GB, pci bus id: 0000:62:00.0, compute capability: 7.0\n"
     ]
    },
    {
     "name": "stdout",
     "output_type": "stream",
     "text": [
      "Epoch 1/50\n"
     ]
    },
    {
     "name": "stderr",
     "output_type": "stream",
     "text": [
      "2022-05-12 03:58:17.375796: I tensorflow/stream_executor/cuda/cuda_dnn.cc:368] Loaded cuDNN version 8400\n",
      "2022-05-12 03:58:18.036449: I tensorflow/core/platform/default/subprocess.cc:304] Start cannot spawn child process: No such file or directory\n"
     ]
    },
    {
     "name": "stdout",
     "output_type": "stream",
     "text": [
      "3689/3689 [==============================] - ETA: 0s - loss: 1282.1387\n",
      "RMSE: 52.41 RMSE-P: 15.60 RMSE-Y: 49.83 e: 55.76 E-P: 12.90 E-Y: 42.86 std: 26.85 std-P: 8.78 std-Y: 25.42\n",
      "3689/3689 [==============================] - 34s 9ms/step - loss: 1282.1387 - val_loss: 1397.4166\n",
      "Epoch 2/50\n",
      "3689/3689 [==============================] - ETA: 0s - loss: 1213.2039\n",
      "RMSE: 50.54 RMSE-P: 15.79 RMSE-Y: 48.15 e: 54.04 E-P: 13.06 E-Y: 40.97 std: 26.80 std-P: 8.87 std-Y: 25.28\n",
      "3689/3689 [==============================] - 31s 8ms/step - loss: 1213.2039 - val_loss: 1318.4746\n",
      "Epoch 3/50\n",
      "3685/3689 [============================>.] - ETA: 0s - loss: 1128.7214\n",
      "RMSE: 48.49 RMSE-P: 15.68 RMSE-Y: 46.24 e: 51.69 E-P: 12.99 E-Y: 38.70 std: 26.82 std-P: 8.77 std-Y: 25.31\n",
      "3689/3689 [==============================] - 31s 8ms/step - loss: 1128.6033 - val_loss: 1228.5409\n",
      "Epoch 4/50\n",
      "3687/3689 [============================>.] - ETA: 0s - loss: 1054.8794\n",
      "RMSE: 47.05 RMSE-P: 15.77 RMSE-Y: 44.73 e: 49.95 E-P: 13.09 E-Y: 36.87 std: 26.86 std-P: 8.80 std-Y: 25.32\n",
      "3689/3689 [==============================] - 31s 8ms/step - loss: 1054.9274 - val_loss: 1162.5125\n",
      "Epoch 5/50\n",
      "3685/3689 [============================>.] - ETA: 0s - loss: 1004.4042\n",
      "RMSE: 46.11 RMSE-P: 15.82 RMSE-Y: 43.73 e: 48.81 E-P: 13.14 E-Y: 35.67 std: 26.86 std-P: 8.81 std-Y: 25.29\n",
      "3689/3689 [==============================] - 31s 8ms/step - loss: 1004.3826 - val_loss: 1120.1680\n",
      "Epoch 6/50\n",
      "3682/3689 [============================>.] - ETA: 0s - loss: 973.0280\n",
      "RMSE: 45.58 RMSE-P: 15.89 RMSE-Y: 43.05 e: 48.10 E-P: 13.20 E-Y: 34.89 std: 26.84 std-P: 8.84 std-Y: 25.22\n",
      "3689/3689 [==============================] - 30s 8ms/step - loss: 972.9573 - val_loss: 1092.8154\n",
      "Epoch 7/50\n",
      "3684/3689 [============================>.] - ETA: 0s - loss: 952.5955\n",
      "RMSE: 45.21 RMSE-P: 15.85 RMSE-Y: 42.59 e: 47.54 E-P: 13.17 E-Y: 34.37 std: 26.79 std-P: 8.82 std-Y: 25.16\n",
      "3689/3689 [==============================] - 31s 8ms/step - loss: 952.6435 - val_loss: 1072.9806\n",
      "Epoch 8/50\n",
      "3689/3689 [==============================] - ETA: 0s - loss: 938.6203\n",
      "RMSE: 44.90 RMSE-P: 15.93 RMSE-Y: 42.26 e: 47.23 E-P: 13.24 E-Y: 33.99 std: 26.79 std-P: 8.86 std-Y: 25.12\n",
      "3689/3689 [==============================] - 32s 9ms/step - loss: 938.6203 - val_loss: 1060.5303\n",
      "Epoch 9/50\n",
      "3683/3689 [============================>.] - ETA: 0s - loss: 928.3563\n",
      "RMSE: 44.74 RMSE-P: 15.94 RMSE-Y: 42.01 e: 46.95 E-P: 13.24 E-Y: 33.70 std: 26.76 std-P: 8.87 std-Y: 25.07\n",
      "3689/3689 [==============================] - 30s 8ms/step - loss: 928.3206 - val_loss: 1050.2473\n",
      "Epoch 10/50\n",
      "3682/3689 [============================>.] - ETA: 0s - loss: 920.4078\n",
      "RMSE: 44.56 RMSE-P: 15.96 RMSE-Y: 41.81 e: 46.74 E-P: 13.26 E-Y: 33.48 std: 26.75 std-P: 8.88 std-Y: 25.04\n",
      "3689/3689 [==============================] - 30s 8ms/step - loss: 920.4477 - val_loss: 1042.3671\n",
      "Epoch 11/50\n",
      "3686/3689 [============================>.] - ETA: 0s - loss: 913.9705\n",
      "RMSE: 44.41 RMSE-P: 15.94 RMSE-Y: 41.64 e: 46.54 E-P: 13.24 E-Y: 33.30 std: 26.71 std-P: 8.87 std-Y: 25.00\n",
      "3689/3689 [==============================] - 32s 9ms/step - loss: 914.0058 - val_loss: 1035.1450\n",
      "Epoch 12/50\n",
      "3686/3689 [============================>.] - ETA: 0s - loss: 908.6090\n",
      "RMSE: 44.29 RMSE-P: 15.97 RMSE-Y: 41.50 e: 46.41 E-P: 13.26 E-Y: 33.15 std: 26.71 std-P: 8.89 std-Y: 24.97\n",
      "3689/3689 [==============================] - 30s 8ms/step - loss: 908.6459 - val_loss: 1029.9696\n",
      "Epoch 13/50\n",
      "3685/3689 [============================>.] - ETA: 0s - loss: 904.0687\n",
      "RMSE: 44.18 RMSE-P: 15.96 RMSE-Y: 41.38 e: 46.28 E-P: 13.26 E-Y: 33.02 std: 26.68 std-P: 8.89 std-Y: 24.94\n",
      "3689/3689 [==============================] - 30s 8ms/step - loss: 904.0598 - val_loss: 1025.0026\n",
      "Epoch 14/50\n",
      "3686/3689 [============================>.] - ETA: 0s - loss: 900.1026\n",
      "RMSE: 44.09 RMSE-P: 15.98 RMSE-Y: 41.28 e: 46.18 E-P: 13.27 E-Y: 32.91 std: 26.67 std-P: 8.90 std-Y: 24.92\n",
      "3689/3689 [==============================] - 31s 8ms/step - loss: 900.0946 - val_loss: 1020.9861\n",
      "Epoch 15/50\n",
      "3685/3689 [============================>.] - ETA: 0s - loss: 896.5663\n",
      "RMSE: 43.98 RMSE-P: 15.98 RMSE-Y: 41.19 e: 46.09 E-P: 13.27 E-Y: 32.82 std: 26.66 std-P: 8.90 std-Y: 24.89\n",
      "3689/3689 [==============================] - 30s 8ms/step - loss: 896.6358 - val_loss: 1017.5056\n",
      "Epoch 16/50\n",
      "3685/3689 [============================>.] - ETA: 0s - loss: 893.6154\n",
      "RMSE: 43.93 RMSE-P: 15.99 RMSE-Y: 41.11 e: 46.00 E-P: 13.27 E-Y: 32.73 std: 26.64 std-P: 8.91 std-Y: 24.87\n",
      "3689/3689 [==============================] - 30s 8ms/step - loss: 893.5516 - val_loss: 1014.1339\n",
      "Epoch 17/50\n",
      "3683/3689 [============================>.] - ETA: 0s - loss: 890.7809\n",
      "RMSE: 43.88 RMSE-P: 15.94 RMSE-Y: 41.03 e: 45.88 E-P: 13.23 E-Y: 32.65 std: 26.61 std-P: 8.88 std-Y: 24.85\n",
      "3689/3689 [==============================] - 31s 8ms/step - loss: 890.7446 - val_loss: 1010.3024\n",
      "Epoch 18/50\n",
      "3685/3689 [============================>.] - ETA: 0s - loss: 888.1346\n",
      "RMSE: 43.78 RMSE-P: 15.96 RMSE-Y: 40.97 e: 45.83 E-P: 13.25 E-Y: 32.58 std: 26.60 std-P: 8.90 std-Y: 24.83\n",
      "3689/3689 [==============================] - 31s 8ms/step - loss: 888.1787 - val_loss: 1008.0280\n",
      "Epoch 19/50\n",
      "3682/3689 [============================>.] - ETA: 0s - loss: 885.8740\n",
      "RMSE: 43.77 RMSE-P: 15.96 RMSE-Y: 40.90 e: 45.77 E-P: 13.25 E-Y: 32.52 std: 26.59 std-P: 8.90 std-Y: 24.81\n",
      "3689/3689 [==============================] - 31s 8ms/step - loss: 885.8287 - val_loss: 1005.4150\n",
      "Epoch 20/50\n",
      "3682/3689 [============================>.] - ETA: 0s - loss: 883.6294\n",
      "RMSE: 43.69 RMSE-P: 15.97 RMSE-Y: 40.85 e: 45.71 E-P: 13.25 E-Y: 32.46 std: 26.58 std-P: 8.90 std-Y: 24.80\n",
      "3689/3689 [==============================] - 30s 8ms/step - loss: 883.6625 - val_loss: 1003.3087\n",
      "Epoch 21/50\n",
      "3684/3689 [============================>.] - ETA: 0s - loss: 881.5765\n",
      "RMSE: 43.66 RMSE-P: 15.97 RMSE-Y: 40.80 e: 45.66 E-P: 13.25 E-Y: 32.41 std: 26.57 std-P: 8.91 std-Y: 24.78\n",
      "3689/3689 [==============================] - 31s 8ms/step - loss: 881.6742 - val_loss: 1001.1439\n",
      "Epoch 22/50\n",
      "3686/3689 [============================>.] - ETA: 0s - loss: 879.7587\n",
      "RMSE: 43.64 RMSE-P: 15.98 RMSE-Y: 40.75 e: 45.62 E-P: 13.26 E-Y: 32.36 std: 26.56 std-P: 8.91 std-Y: 24.76\n",
      "3689/3689 [==============================] - 31s 8ms/step - loss: 879.8176 - val_loss: 999.3722\n",
      "Epoch 23/50\n",
      "3685/3689 [============================>.] - ETA: 0s - loss: 878.0836\n",
      "RMSE: 43.60 RMSE-P: 15.95 RMSE-Y: 40.70 e: 45.55 E-P: 13.24 E-Y: 32.31 std: 26.54 std-P: 8.90 std-Y: 24.75\n",
      "3689/3689 [==============================] - 30s 8ms/step - loss: 878.0877 - val_loss: 997.0908\n",
      "Epoch 24/50\n",
      "3683/3689 [============================>.] - ETA: 0s - loss: 876.4884\n",
      "RMSE: 43.53 RMSE-P: 15.98 RMSE-Y: 40.66 e: 45.53 E-P: 13.26 E-Y: 32.27 std: 26.55 std-P: 8.92 std-Y: 24.73\n",
      "3689/3689 [==============================] - 31s 8ms/step - loss: 876.4480 - val_loss: 995.8631\n",
      "Epoch 25/50\n",
      "3684/3689 [============================>.] - ETA: 0s - loss: 874.8804\n",
      "RMSE: 43.50 RMSE-P: 15.94 RMSE-Y: 40.62 e: 45.46 E-P: 13.23 E-Y: 32.23 std: 26.52 std-P: 8.90 std-Y: 24.72\n",
      "3689/3689 [==============================] - 31s 8ms/step - loss: 874.8842 - val_loss: 993.5536\n",
      "Epoch 26/50\n",
      "3682/3689 [============================>.] - ETA: 0s - loss: 873.4875\n",
      "RMSE: 43.47 RMSE-P: 15.96 RMSE-Y: 40.58 e: 45.43 E-P: 13.24 E-Y: 32.19 std: 26.52 std-P: 8.91 std-Y: 24.71\n",
      "3689/3689 [==============================] - 31s 8ms/step - loss: 873.4373 - val_loss: 992.3037\n",
      "Epoch 27/50\n",
      "3686/3689 [============================>.] - ETA: 0s - loss: 872.0997\n",
      "RMSE: 43.44 RMSE-P: 15.94 RMSE-Y: 40.54 e: 45.38 E-P: 13.22 E-Y: 32.16 std: 26.50 std-P: 8.90 std-Y: 24.70\n",
      "3689/3689 [==============================] - 30s 8ms/step - loss: 872.0752 - val_loss: 990.4952\n",
      "Epoch 28/50\n",
      "3685/3689 [============================>.] - ETA: 0s - loss: 870.8107\n",
      "RMSE: 43.39 RMSE-P: 15.94 RMSE-Y: 40.51 e: 45.35 E-P: 13.22 E-Y: 32.12 std: 26.49 std-P: 8.90 std-Y: 24.69\n",
      "3689/3689 [==============================] - 30s 8ms/step - loss: 870.7717 - val_loss: 989.1383\n",
      "Epoch 29/50\n",
      "3682/3689 [============================>.] - ETA: 0s - loss: 869.5372\n",
      "RMSE: 43.39 RMSE-P: 15.94 RMSE-Y: 40.48 e: 45.31 E-P: 13.22 E-Y: 32.09 std: 26.48 std-P: 8.90 std-Y: 24.67\n",
      "3689/3689 [==============================] - 31s 8ms/step - loss: 869.5269 - val_loss: 987.7808\n",
      "Epoch 30/50\n",
      "3685/3689 [============================>.] - ETA: 0s - loss: 868.2997\n",
      "RMSE: 43.35 RMSE-P: 15.95 RMSE-Y: 40.45 e: 45.29 E-P: 13.23 E-Y: 32.06 std: 26.48 std-P: 8.91 std-Y: 24.66\n",
      "3689/3689 [==============================] - 31s 8ms/step - loss: 868.3290 - val_loss: 986.6572\n",
      "Epoch 31/50\n",
      "3686/3689 [============================>.] - ETA: 0s - loss: 867.1871\n",
      "RMSE: 43.36 RMSE-P: 15.94 RMSE-Y: 40.42 e: 45.25 E-P: 13.22 E-Y: 32.03 std: 26.47 std-P: 8.90 std-Y: 24.65\n",
      "3689/3689 [==============================] - 30s 8ms/step - loss: 867.1625 - val_loss: 985.2951\n",
      "Epoch 32/50\n",
      "3682/3689 [============================>.] - ETA: 0s - loss: 866.0667\n",
      "RMSE: 43.29 RMSE-P: 15.93 RMSE-Y: 40.39 e: 45.21 E-P: 13.21 E-Y: 32.00 std: 26.45 std-P: 8.90 std-Y: 24.64\n",
      "3689/3689 [==============================] - 31s 8ms/step - loss: 866.0756 - val_loss: 983.9435\n",
      "Epoch 33/50\n",
      "3686/3689 [============================>.] - ETA: 0s - loss: 865.0432\n",
      "RMSE: 43.27 RMSE-P: 15.93 RMSE-Y: 40.36 e: 45.19 E-P: 13.22 E-Y: 31.97 std: 26.45 std-P: 8.90 std-Y: 24.63\n",
      "3689/3689 [==============================] - 31s 8ms/step - loss: 865.0114 - val_loss: 982.9763\n",
      "Epoch 34/50\n",
      "3683/3689 [============================>.] - ETA: 0s - loss: 863.8429\n",
      "RMSE: 43.25 RMSE-P: 15.92 RMSE-Y: 40.34 e: 45.16 E-P: 13.21 E-Y: 31.95 std: 26.44 std-P: 8.90 std-Y: 24.62\n",
      "3689/3689 [==============================] - 31s 8ms/step - loss: 863.9875 - val_loss: 981.7319\n",
      "Epoch 35/50\n",
      "3685/3689 [============================>.] - ETA: 0s - loss: 863.0095\n",
      "RMSE: 43.23 RMSE-P: 15.93 RMSE-Y: 40.31 e: 45.14 E-P: 13.21 E-Y: 31.92 std: 26.43 std-P: 8.90 std-Y: 24.61\n",
      "3689/3689 [==============================] - 30s 8ms/step - loss: 863.0064 - val_loss: 980.7825\n",
      "Epoch 36/50\n",
      "3684/3689 [============================>.] - ETA: 0s - loss: 862.0626\n",
      "RMSE: 43.19 RMSE-P: 15.92 RMSE-Y: 40.29 e: 45.11 E-P: 13.21 E-Y: 31.90 std: 26.43 std-P: 8.90 std-Y: 24.60\n",
      "3689/3689 [==============================] - 30s 8ms/step - loss: 862.0585 - val_loss: 979.7319\n",
      "Epoch 37/50\n",
      "3688/3689 [============================>.] - ETA: 0s - loss: 861.0953\n",
      "RMSE: 43.18 RMSE-P: 15.91 RMSE-Y: 40.26 e: 45.07 E-P: 13.20 E-Y: 31.88 std: 26.41 std-P: 8.89 std-Y: 24.59\n",
      "3689/3689 [==============================] - 31s 8ms/step - loss: 861.1531 - val_loss: 978.5685\n",
      "Epoch 38/50\n",
      "3689/3689 [==============================] - ETA: 0s - loss: 860.2749\n",
      "RMSE: 43.17 RMSE-P: 15.92 RMSE-Y: 40.24 e: 45.06 E-P: 13.20 E-Y: 31.86 std: 26.41 std-P: 8.90 std-Y: 24.59\n",
      "3689/3689 [==============================] - 30s 8ms/step - loss: 860.2749 - val_loss: 977.7966\n",
      "Epoch 39/50\n",
      "3689/3689 [==============================] - ETA: 0s - loss: 859.4236\n",
      "RMSE: 43.14 RMSE-P: 15.94 RMSE-Y: 40.22 e: 45.05 E-P: 13.22 E-Y: 31.83 std: 26.41 std-P: 8.91 std-Y: 24.58\n",
      "3689/3689 [==============================] - 31s 8ms/step - loss: 859.4236 - val_loss: 977.1603\n",
      "Epoch 40/50\n",
      "3687/3689 [============================>.] - ETA: 0s - loss: 858.6305\n",
      "RMSE: 43.14 RMSE-P: 15.93 RMSE-Y: 40.20 e: 45.02 E-P: 13.21 E-Y: 31.81 std: 26.40 std-P: 8.90 std-Y: 24.57\n",
      "3689/3689 [==============================] - 31s 8ms/step - loss: 858.6036 - val_loss: 976.1368\n",
      "Epoch 41/50\n",
      "3685/3689 [============================>.] - ETA: 0s - loss: 857.8133\n",
      "RMSE: 43.11 RMSE-P: 15.92 RMSE-Y: 40.18 e: 44.99 E-P: 13.20 E-Y: 31.79 std: 26.39 std-P: 8.90 std-Y: 24.56\n",
      "3689/3689 [==============================] - 30s 8ms/step - loss: 857.8061 - val_loss: 975.1143\n",
      "Epoch 42/50\n",
      "3685/3689 [============================>.] - ETA: 0s - loss: 857.0093\n",
      "RMSE: 43.11 RMSE-P: 15.93 RMSE-Y: 40.16 e: 44.98 E-P: 13.21 E-Y: 31.77 std: 26.39 std-P: 8.90 std-Y: 24.55\n",
      "3689/3689 [==============================] - 30s 8ms/step - loss: 857.0300 - val_loss: 974.4614\n",
      "Epoch 43/50\n",
      "3682/3689 [============================>.] - ETA: 0s - loss: 856.3371\n",
      "RMSE: 43.07 RMSE-P: 15.92 RMSE-Y: 40.14 e: 44.95 E-P: 13.20 E-Y: 31.75 std: 26.38 std-P: 8.90 std-Y: 24.55\n",
      "3689/3689 [==============================] - 30s 8ms/step - loss: 856.2798 - val_loss: 973.4981\n",
      "Epoch 44/50\n",
      "3684/3689 [============================>.] - ETA: 0s - loss: 855.5623\n",
      "RMSE: 43.07 RMSE-P: 15.91 RMSE-Y: 40.12 e: 44.93 E-P: 13.19 E-Y: 31.74 std: 26.37 std-P: 8.89 std-Y: 24.54\n",
      "3689/3689 [==============================] - 31s 8ms/step - loss: 855.5513 - val_loss: 972.5735\n",
      "Epoch 45/50\n",
      "3685/3689 [============================>.] - ETA: 0s - loss: 854.8820\n",
      "RMSE: 43.04 RMSE-P: 15.92 RMSE-Y: 40.10 e: 44.91 E-P: 13.20 E-Y: 31.72 std: 26.37 std-P: 8.90 std-Y: 24.53\n",
      "3689/3689 [==============================] - 30s 8ms/step - loss: 854.8494 - val_loss: 971.9758\n",
      "Epoch 46/50\n",
      "3683/3689 [============================>.] - ETA: 0s - loss: 854.0789\n",
      "RMSE: 43.02 RMSE-P: 15.91 RMSE-Y: 40.08 e: 44.90 E-P: 13.19 E-Y: 31.70 std: 26.36 std-P: 8.90 std-Y: 24.53\n",
      "3689/3689 [==============================] - 31s 8ms/step - loss: 854.1531 - val_loss: 971.2325\n",
      "Epoch 47/50\n",
      "3686/3689 [============================>.] - ETA: 0s - loss: 853.4836\n",
      "RMSE: 43.01 RMSE-P: 15.91 RMSE-Y: 40.06 e: 44.88 E-P: 13.19 E-Y: 31.69 std: 26.36 std-P: 8.90 std-Y: 24.52\n",
      "3689/3689 [==============================] - 31s 9ms/step - loss: 853.4803 - val_loss: 970.4988\n",
      "Epoch 48/50\n",
      "3686/3689 [============================>.] - ETA: 0s - loss: 852.7925\n",
      "RMSE: 42.99 RMSE-P: 15.91 RMSE-Y: 40.05 e: 44.86 E-P: 13.19 E-Y: 31.67 std: 26.35 std-P: 8.90 std-Y: 24.51\n",
      "3689/3689 [==============================] - 31s 8ms/step - loss: 852.8174 - val_loss: 969.7171\n",
      "Epoch 49/50\n",
      "3686/3689 [============================>.] - ETA: 0s - loss: 852.2130\n",
      "RMSE: 42.98 RMSE-P: 15.90 RMSE-Y: 40.03 e: 44.83 E-P: 13.18 E-Y: 31.65 std: 26.34 std-P: 8.89 std-Y: 24.51\n",
      "3689/3689 [==============================] - 30s 8ms/step - loss: 852.1743 - val_loss: 968.8766\n",
      "Epoch 50/50\n",
      "3688/3689 [============================>.] - ETA: 0s - loss: 851.5451\n",
      "RMSE: 42.97 RMSE-P: 15.88 RMSE-Y: 40.01 e: 44.80 E-P: 13.16 E-Y: 31.64 std: 26.33 std-P: 8.88 std-Y: 24.50\n",
      "3689/3689 [==============================] - 30s 8ms/step - loss: 851.5501 - val_loss: 967.9730\n"
     ]
    }
   ],
   "source": [
    "batch_size = 100\n",
    "\n",
    "# input image dimensions\n",
    "img_rows, img_cols = 27, 15\n",
    "\n",
    "model = tf.keras.Sequential()\n",
    "\n",
    "model.add(tf.keras.layers.Conv2D(32, kernel_size=(6, 6),\n",
    "                                 activation='relu',\n",
    "                                 padding='same',\n",
    "                                 bias_initializer=tf.keras.initializers.Constant(value=0.01),\n",
    "                                 input_shape=input_shape))\n",
    "model.add(tf.keras.layers.MaxPool2D(pool_size=(2,2), strides=(2,2), padding='same'))\n",
    "\n",
    "model.add(tf.keras.layers.Conv2D(72, kernel_size=(6, 6),\n",
    "                                 activation='relu',\n",
    "                                 bias_initializer=tf.keras.initializers.Constant(value=0.01),\n",
    "                                 padding='same'))\n",
    "model.add(tf.keras.layers.MaxPool2D(pool_size=(2,2), strides=(2,2), padding='same'))\n",
    "\n",
    "model.add(tf.keras.layers.Conv2D(160, kernel_size=(7, 7),\n",
    "                                 activation='relu',\n",
    "                                 bias_initializer=tf.keras.initializers.Constant(value=0.01),\n",
    "                                 padding='same'))\n",
    "model.add(tf.keras.layers.MaxPool2D(pool_size=(2,2), strides=(2,2), padding='same'))\n",
    "\n",
    "model.add(tf.keras.layers.Flatten())\n",
    "model.add(tf.keras.layers.Dense(2000, \n",
    "        activation='relu',\n",
    "        kernel_initializer=tf.keras.initializers.glorot_uniform(),\n",
    "        bias_initializer=tf.keras.initializers.Constant(value=0.01),\n",
    "        kernel_regularizer=tf.keras.regularizers.l2(0.15)))\n",
    "\n",
    "model.add(tf.keras.layers.Dense(2,\n",
    "        kernel_initializer=tf.keras.initializers.glorot_uniform(),\n",
    "        bias_initializer=tf.keras.initializers.Constant(value=0.01),\n",
    "        kernel_regularizer=tf.keras.regularizers.l2(0.15)))\n",
    "\n",
    "optimizer = tf.keras.optimizers.RMSprop(learning_rate=0.001, rho=0.9, epsilon=1e-08, decay=0.1)\n",
    "    \n",
    "model.summary()\n",
    "\n",
    "model.compile(loss=tf.keras.losses.mean_squared_error, optimizer=optimizer)\n",
    "\n",
    "# Function to display the target and prediciton\n",
    "def testmodel(epoch, logs):\n",
    "    pred_y = model.predict(\n",
    "        x_test,\n",
    "        batch_size=batch_size\n",
    "    )\n",
    "    true_y = y_test\n",
    "\n",
    "    ePitch = np.abs(true_y[:,0] - pred_y[:,0]) \n",
    "    eYaw = np.abs(true_y[:,1] - pred_y[:,1])\n",
    "    ListError = ePitch + eYaw\n",
    "    ListErrorPitch = ePitch\n",
    "    ListErrorYaw = eYaw\n",
    "\n",
    "    diff_true = true_y[:,0] + true_y[:,1]\n",
    "    diff_pred = pred_y[:,0] + pred_y[:,1]\n",
    "    RMSE = np.sqrt(np.mean(np.square(np.subtract(diff_pred, diff_true))))\n",
    "    RMSEPitch = np.sqrt(np.mean(np.square(np.subtract(pred_y[:,0], true_y[:,0]))))\n",
    "    RMSEYaw   = np.sqrt(np.mean(np.square(np.subtract(pred_y[:,1], true_y[:,1]))))\n",
    "\n",
    "    print ('\\nRMSE: %.2f RMSE-P: %.2f RMSE-Y: %.2f e: %.2f E-P: %.2f E-Y: %.2f std: %.2f std-P: %.2f std-Y: %.2f' %(\n",
    "              RMSE, RMSEPitch, RMSEYaw,\n",
    "                ListError.mean(), ListErrorPitch.mean(), ListErrorYaw.mean(),\n",
    "                ListError.std(), ListErrorPitch.std(), ListErrorYaw.std(),))\n",
    "\n",
    "\n",
    "# Callback to display the target and prediciton\n",
    "testcallback = tf.keras.callbacks.LambdaCallback(on_epoch_end=testmodel)\n",
    "\n",
    "hist = model.fit(x_train, y_train,\n",
    "          batch_size=batch_size,\n",
    "          epochs=50,\n",
    "          verbose=1,\n",
    "          validation_data=(x_test, y_test),\n",
    "          callbacks=[testcallback])"
   ]
  },
  {
   "cell_type": "code",
   "execution_count": 19,
   "metadata": {},
   "outputs": [
    {
     "data": {
      "text/plain": [
       "<matplotlib.legend.Legend at 0x7f84e4bb6eb0>"
      ]
     },
     "execution_count": 19,
     "metadata": {},
     "output_type": "execute_result"
    },
    {
     "data": {
      "image/png": "[encoded data removed]",
      "text/plain": [
       "<Figure size 432x288 with 1 Axes>"
      ]
     },
     "metadata": {
      "needs_background": "light"
     },
     "output_type": "display_data"
    }
   ],
   "source": [
    "plt.plot(hist.history['loss'], label=\"loss\")\n",
    "plt.plot(hist.history['val_loss'], label=\"val_loss\")\n",
    "plt.legend()"
   ]
  }
 ],
 "metadata": {
  "kernelspec": {
   "display_name": "Python 3 (ipykernel)",
   "language": "python",
   "name": "python3"
  },
  "language_info": {
   "codemirror_mode": {
    "name": "ipython",
    "version": 3
   },
   "file_extension": ".py",
   "mimetype": "text/x-python",
   "name": "python",
   "nbconvert_exporter": "python",
   "pygments_lexer": "ipython3",
   "version": "3.8.10"
  }
 },
 "nbformat": 4,
 "nbformat_minor": 4
}
