{
 "cells": [
  {
   "cell_type": "code",
   "execution_count": 1,
   "metadata": {
    "tags": []
   },
   "outputs": [],
   "source": [
    "import numpy as np\n",
    "import pandas as pd\n",
    "from skimage import measure\n",
    "import os\n",
    "import matplotlib.pyplot as plt\n",
    "import multiprocessing\n",
    "cpu_count = multiprocessing.cpu_count()\n",
    "from multiprocessing import Pool\n",
    "\n",
    "from matplotlib.patches import Rectangle\n",
    "import matplotlib.patches as patches"
   ]
  },
  {
   "cell_type": "markdown",
   "metadata": {},
   "source": [
    "## Read data"
   ]
  },
  {
   "cell_type": "code",
   "execution_count": 2,
   "metadata": {},
   "outputs": [
    {
     "name": "stdout",
     "output_type": "stream",
     "text": [
      "data_p01.pkl\n",
      "data_p02.pkl\n",
      "data_p03.pkl\n",
      "data_p04.pkl\n",
      "data_p05.pkl\n",
      "data_p06.pkl\n",
      "data_p07.pkl\n",
      "data_p08.pkl\n",
      "data_p09.pkl\n",
      "data_p10.pkl\n",
      "data_p11.pkl\n",
      "data_p12.pkl\n",
      "data_p13.pkl\n",
      "data_p14.pkl\n",
      "data_p15.pkl\n",
      "data_p16.pkl\n",
      "data_p17.pkl\n",
      "data_p18.pkl\n",
      "data_p19.pkl\n",
      "data_p20.pkl\n",
      "data_p21.pkl\n",
      "data_p22.pkl\n",
      "data_p23.pkl\n",
      "data_p24.pkl\n",
      "data_p25.pkl\n",
      "data_p26.pkl\n",
      "data_p27.pkl\n",
      "data_p28.pkl\n",
      "data_p29.pkl\n",
      "data_p30.pkl\n",
      "data_p31.pkl\n",
      "data_p32.pkl\n",
      "data_p33.pkl\n",
      "241120\n"
     ]
    }
   ],
   "source": [
    "directory = \"./data\"\n",
    "dfs =[]\n",
    "for filename in sorted(os.listdir(directory)):\n",
    "    if (filename.startswith(\"data_\") and filename.endswith(\".pkl\")): \n",
    "        print (filename)\n",
    "        dfs.append(pd.read_pickle(os.path.join(directory, filename)))\n",
    "    else:\n",
    "        continue\n",
    "        \n",
    "df = pd.concat(dfs)\n",
    "df = df.sort_index()\n",
    "print (len(df))"
   ]
  },
  {
   "cell_type": "code",
   "execution_count": 3,
   "metadata": {},
   "outputs": [
    {
     "data": {
      "text/html": [
       "<div>\n",
       "<style scoped>\n",
       "    .dataframe tbody tr th:only-of-type {\n",
       "        vertical-align: middle;\n",
       "    }\n",
       "\n",
       "    .dataframe tbody tr th {\n",
       "        vertical-align: top;\n",
       "    }\n",
       "\n",
       "    .dataframe thead th {\n",
       "        text-align: right;\n",
       "    }\n",
       "</style>\n",
       "<table border=\"1\" class=\"dataframe\">\n",
       "  <thead>\n",
       "    <tr style=\"text-align: right;\">\n",
       "      <th></th>\n",
       "      <th>Participant</th>\n",
       "      <th>Condition</th>\n",
       "      <th>Matrix</th>\n",
       "      <th>Pitch</th>\n",
       "      <th>Yaw</th>\n",
       "      <th>TimeOffset</th>\n",
       "    </tr>\n",
       "  </thead>\n",
       "  <tbody>\n",
       "    <tr>\n",
       "      <th>0</th>\n",
       "      <td>1</td>\n",
       "      <td>2</td>\n",
       "      <td>[[0, 0, -1, 1, 0, 0, -3, 0, -2, -2, -1, -3, -1...</td>\n",
       "      <td>38.856377</td>\n",
       "      <td>-2.493793</td>\n",
       "      <td>0.993750</td>\n",
       "    </tr>\n",
       "    <tr>\n",
       "      <th>1</th>\n",
       "      <td>1</td>\n",
       "      <td>2</td>\n",
       "      <td>[[0, 0, -1, 1, 0, 0, -3, 0, -2, -2, -1, -3, -1...</td>\n",
       "      <td>38.597713</td>\n",
       "      <td>-2.538246</td>\n",
       "      <td>0.999065</td>\n",
       "    </tr>\n",
       "    <tr>\n",
       "      <th>2</th>\n",
       "      <td>1</td>\n",
       "      <td>2</td>\n",
       "      <td>[[0, 0, -1, 1, 0, 0, -3, 0, -2, -2, -1, -3, -1...</td>\n",
       "      <td>37.787099</td>\n",
       "      <td>-3.215579</td>\n",
       "      <td>-0.005882</td>\n",
       "    </tr>\n",
       "    <tr>\n",
       "      <th>3</th>\n",
       "      <td>1</td>\n",
       "      <td>2</td>\n",
       "      <td>[[0, 0, -1, 1, 0, 0, -3, 0, -2, -2, -1, -3, -1...</td>\n",
       "      <td>38.310998</td>\n",
       "      <td>-3.407330</td>\n",
       "      <td>-0.001333</td>\n",
       "    </tr>\n",
       "    <tr>\n",
       "      <th>4</th>\n",
       "      <td>1</td>\n",
       "      <td>2</td>\n",
       "      <td>[[0, 0, -1, 1, 0, 0, -3, 0, -2, -2, -1, -3, -1...</td>\n",
       "      <td>38.392563</td>\n",
       "      <td>-3.486370</td>\n",
       "      <td>-0.001205</td>\n",
       "    </tr>\n",
       "  </tbody>\n",
       "</table>\n",
       "</div>"
      ],
      "text/plain": [
       "   Participant  Condition                                             Matrix  \\\n",
       "0            1          2  [[0, 0, -1, 1, 0, 0, -3, 0, -2, -2, -1, -3, -1...   \n",
       "1            1          2  [[0, 0, -1, 1, 0, 0, -3, 0, -2, -2, -1, -3, -1...   \n",
       "2            1          2  [[0, 0, -1, 1, 0, 0, -3, 0, -2, -2, -1, -3, -1...   \n",
       "3            1          2  [[0, 0, -1, 1, 0, 0, -3, 0, -2, -2, -1, -3, -1...   \n",
       "4            1          2  [[0, 0, -1, 1, 0, 0, -3, 0, -2, -2, -1, -3, -1...   \n",
       "\n",
       "       Pitch       Yaw  TimeOffset  \n",
       "0  38.856377 -2.493793    0.993750  \n",
       "1  38.597713 -2.538246    0.999065  \n",
       "2  37.787099 -3.215579   -0.005882  \n",
       "3  38.310998 -3.407330   -0.001333  \n",
       "4  38.392563 -3.486370   -0.001205  "
      ]
     },
     "execution_count": 3,
     "metadata": {},
     "output_type": "execute_result"
    }
   ],
   "source": [
    "df.head()"
   ]
  },
  {
   "cell_type": "markdown",
   "metadata": {},
   "source": [
    "## Flip data in yaw"
   ]
  },
  {
   "cell_type": "code",
   "execution_count": 4,
   "metadata": {
    "tags": []
   },
   "outputs": [],
   "source": [
    "df[\"IsFlipped\"] = False"
   ]
  },
  {
   "cell_type": "code",
   "execution_count": 5,
   "metadata": {},
   "outputs": [
    {
     "name": "stdout",
     "output_type": "stream",
     "text": [
      "CPU times: user 2.26 s, sys: 1.39 s, total: 3.65 s\n",
      "Wall time: 3.45 s\n"
     ]
    }
   ],
   "source": [
    "%%time\n",
    "\n",
    "def doJob (df):\n",
    "    lst = []\n",
    "    for i, d in df.iterrows():\n",
    "        lst.append(np.fliplr(d.Matrix))\n",
    "    return lst\n",
    "\n",
    "p = Pool(cpu_count)\n",
    "\n",
    "\n",
    "data = np.array_split(df, cpu_count)\n",
    "pool_results = p.map(doJob, data)\n",
    "p.close()\n",
    "del data\n",
    "\n",
    "results = []\n",
    "for result in pool_results:\n",
    "    results.extend(result)"
   ]
  },
  {
   "cell_type": "code",
   "execution_count": 6,
   "metadata": {},
   "outputs": [
    {
     "data": {
      "text/html": [
       "<div>\n",
       "<style scoped>\n",
       "    .dataframe tbody tr th:only-of-type {\n",
       "        vertical-align: middle;\n",
       "    }\n",
       "\n",
       "    .dataframe tbody tr th {\n",
       "        vertical-align: top;\n",
       "    }\n",
       "\n",
       "    .dataframe thead th {\n",
       "        text-align: right;\n",
       "    }\n",
       "</style>\n",
       "<table border=\"1\" class=\"dataframe\">\n",
       "  <thead>\n",
       "    <tr style=\"text-align: right;\">\n",
       "      <th></th>\n",
       "      <th>Pair</th>\n",
       "      <th>Participant</th>\n",
       "      <th>Condition</th>\n",
       "      <th>Matrix</th>\n",
       "      <th>Pitch</th>\n",
       "      <th>Yaw</th>\n",
       "      <th>TimeOffset</th>\n",
       "      <th>IsFlipped</th>\n",
       "    </tr>\n",
       "  </thead>\n",
       "  <tbody>\n",
       "    <tr>\n",
       "      <th>0</th>\n",
       "      <td>0</td>\n",
       "      <td>1</td>\n",
       "      <td>2</td>\n",
       "      <td>[[0, 0, -1, 1, 0, 0, -3, 0, -2, -2, -1, -3, -1...</td>\n",
       "      <td>38.856377</td>\n",
       "      <td>-2.493793</td>\n",
       "      <td>0.993750</td>\n",
       "      <td>False</td>\n",
       "    </tr>\n",
       "    <tr>\n",
       "      <th>1</th>\n",
       "      <td>0</td>\n",
       "      <td>1</td>\n",
       "      <td>2</td>\n",
       "      <td>[[-1, -2, -1, -3, -1, -2, -2, 0, -3, 0, 0, 1, ...</td>\n",
       "      <td>38.856377</td>\n",
       "      <td>2.493793</td>\n",
       "      <td>0.993750</td>\n",
       "      <td>True</td>\n",
       "    </tr>\n",
       "    <tr>\n",
       "      <th>2</th>\n",
       "      <td>1</td>\n",
       "      <td>1</td>\n",
       "      <td>2</td>\n",
       "      <td>[[0, 0, -1, 1, 0, 0, -3, 0, -2, -2, -1, -3, -1...</td>\n",
       "      <td>38.597713</td>\n",
       "      <td>-2.538246</td>\n",
       "      <td>0.999065</td>\n",
       "      <td>False</td>\n",
       "    </tr>\n",
       "    <tr>\n",
       "      <th>3</th>\n",
       "      <td>1</td>\n",
       "      <td>1</td>\n",
       "      <td>2</td>\n",
       "      <td>[[-1, -2, -1, -3, -1, -2, -2, 0, -3, 0, 0, 1, ...</td>\n",
       "      <td>38.597713</td>\n",
       "      <td>2.538246</td>\n",
       "      <td>0.999065</td>\n",
       "      <td>True</td>\n",
       "    </tr>\n",
       "    <tr>\n",
       "      <th>4</th>\n",
       "      <td>2</td>\n",
       "      <td>1</td>\n",
       "      <td>2</td>\n",
       "      <td>[[0, 0, -1, 1, 0, 0, -3, 0, -2, -2, -1, -3, -1...</td>\n",
       "      <td>37.787099</td>\n",
       "      <td>-3.215579</td>\n",
       "      <td>-0.005882</td>\n",
       "      <td>False</td>\n",
       "    </tr>\n",
       "  </tbody>\n",
       "</table>\n",
       "</div>"
      ],
      "text/plain": [
       "   Pair  Participant  Condition  \\\n",
       "0     0            1          2   \n",
       "1     0            1          2   \n",
       "2     1            1          2   \n",
       "3     1            1          2   \n",
       "4     2            1          2   \n",
       "\n",
       "                                              Matrix      Pitch       Yaw  \\\n",
       "0  [[0, 0, -1, 1, 0, 0, -3, 0, -2, -2, -1, -3, -1...  38.856377 -2.493793   \n",
       "1  [[-1, -2, -1, -3, -1, -2, -2, 0, -3, 0, 0, 1, ...  38.856377  2.493793   \n",
       "2  [[0, 0, -1, 1, 0, 0, -3, 0, -2, -2, -1, -3, -1...  38.597713 -2.538246   \n",
       "3  [[-1, -2, -1, -3, -1, -2, -2, 0, -3, 0, 0, 1, ...  38.597713  2.538246   \n",
       "4  [[0, 0, -1, 1, 0, 0, -3, 0, -2, -2, -1, -3, -1...  37.787099 -3.215579   \n",
       "\n",
       "   TimeOffset  IsFlipped  \n",
       "0    0.993750      False  \n",
       "1    0.993750       True  \n",
       "2    0.999065      False  \n",
       "3    0.999065       True  \n",
       "4   -0.005882      False  "
      ]
     },
     "execution_count": 6,
     "metadata": {},
     "output_type": "execute_result"
    }
   ],
   "source": [
    "df2 = df.copy(deep=True)\n",
    "df2.Matrix = results\n",
    "df2.Yaw = df2.Yaw *-1\n",
    "df2.IsFlipped = True\n",
    "\n",
    "df = pd.concat([df,df2])\n",
    "df = df.sort_index()\n",
    "df = df.reset_index()\n",
    "df = df.rename(columns={\"index\":\"Pair\"})\n",
    "df.head()"
   ]
  },
  {
   "cell_type": "markdown",
   "metadata": {},
   "source": [
    "## Blob detection"
   ]
  },
  {
   "cell_type": "code",
   "execution_count": 7,
   "metadata": {
    "tags": []
   },
   "outputs": [],
   "source": [
    "def loadImg(img):\n",
    "    im = np.copy(img)\n",
    "    \n",
    "    # The Nexus5 capacitive sensor is extreamly noizy in the upper rows \n",
    "    # Since no one touched there we can remove the noise to be able\n",
    "    # to perfercly detect the finger\n",
    "    im[:7] = 0\n",
    "    \n",
    "    # Reduction of noise as already described by Xiao et al.\n",
    "    im[im < 4] = 0\n",
    "    \n",
    "    # Filter sensore overshoots\n",
    "    im[im > 255] = 255\n",
    "    \n",
    "    im = im.astype(np.float64)\n",
    "    return im"
   ]
  },
  {
   "cell_type": "code",
   "execution_count": 8,
   "metadata": {
    "tags": []
   },
   "outputs": [],
   "source": [
    "def findCon (img):\n",
    "    contours = measure.find_contours(img, 35)\n",
    "    points_to_approx = []\n",
    "    highest_val = 0\n",
    "    for n, contour in enumerate(contours):\n",
    "        if (len(contour) > highest_val and len(contour) > 0):\n",
    "            points_to_approx = contour\n",
    "            highest_val = len(contour)\n",
    "\n",
    "    if len(points_to_approx) > 5:\n",
    "        return points_to_approx[:, 1], points_to_approx[:, 0]\n",
    "    else:\n",
    "        return None, None"
   ]
  },
  {
   "cell_type": "code",
   "execution_count": 9,
   "metadata": {
    "tags": []
   },
   "outputs": [],
   "source": [
    "def doJob (df):\n",
    "    lst = []\n",
    "    for i, d in df.iterrows():\n",
    "        img = loadImg(d.Matrix)\n",
    "        x,y = findCon(img)\n",
    "        if (not(x is None)):\n",
    "            x1,y1,x2,y2 = int(x.min()-1), int(y.min()-1), int(x.max()+2), int(y.max()+2)\n",
    "            if x1 < 0:\n",
    "                x1 = 0\n",
    "            if y1 < 0:\n",
    "                y1 = 0\n",
    "            if x2 > 15:\n",
    "                x2 = 15\n",
    "            if y2 > 27:\n",
    "                y2 = 27\n",
    "            lst.append([x1, y1, x2 - x1, y2 - y1, img[y1:y2, x1:x2]])\n",
    "        else:\n",
    "            lst.append([0,0,0,0,0])\n",
    "    return lst"
   ]
  },
  {
   "cell_type": "code",
   "execution_count": 10,
   "metadata": {},
   "outputs": [
    {
     "name": "stdout",
     "output_type": "stream",
     "text": [
      "CPU times: user 6.22 s, sys: 1.7 s, total: 7.92 s\n",
      "Wall time: 8.32 s\n"
     ]
    }
   ],
   "source": [
    "%%time\n",
    "p = Pool(cpu_count)\n",
    "\n",
    "data = np.array_split(df, cpu_count)\n",
    "pool_results = p.map(doJob, data)\n",
    "p.close()\n",
    "del data\n",
    "results = []\n",
    "for result in pool_results:\n",
    "    results.extend(result)\n",
    "\n",
    "dfNew = pd.DataFrame(results, columns=['TouchX', 'TouchY', 'TouchW', 'TouchH', 'MatrixCropped'])\n",
    "df['TouchX'] = dfNew.TouchX.tolist()\n",
    "df['TouchY'] = dfNew.TouchY.tolist()\n",
    "df['TouchH'] = dfNew.TouchH.tolist()\n",
    "df['TouchW'] = dfNew.TouchW.tolist()\n",
    "df['MatrixCropped'] = dfNew.MatrixCropped.tolist()"
   ]
  },
  {
   "cell_type": "code",
   "execution_count": 11,
   "metadata": {},
   "outputs": [
    {
     "name": "stdout",
     "output_type": "stream",
     "text": [
      "Data set size: 457268\n"
     ]
    }
   ],
   "source": [
    "# remove no touches\n",
    "df = df[df.TouchH > 2]\n",
    "df = df[df.TouchW > 2]\n",
    "print (\"Data set size: %i\" % len(df))"
   ]
  },
  {
   "cell_type": "code",
   "execution_count": 12,
   "metadata": {},
   "outputs": [
    {
     "data": {
      "image/png": "[encoded data removed]",
      "text/plain": [
       "<Figure size 432x288 with 1 Axes>"
      ]
     },
     "metadata": {
      "needs_background": "light"
     },
     "output_type": "display_data"
    }
   ],
   "source": [
    "fig, ax = plt.subplots()\n",
    "img = loadImg(df.iloc[1234].Matrix)\n",
    "x,y = findCon(img)\n",
    "\n",
    "ax.set_aspect('equal', 'datalim')\n",
    "plt.imshow(img)\n",
    "\n",
    "ax.plot(x,y, color='#ffffff', linewidth=3, alpha=1.0)\n",
    "x1,y1,x2,y2 = int(x.min()-1), int(y.min()-1), int(x.max()+2), int(y.max()+2)\n",
    "ax.add_patch(patches.Rectangle( (x1, y1), x2- x1, y2-y1, fill=False, color='#ffffff'))\n",
    "plt.show()"
   ]
  },
  {
   "cell_type": "markdown",
   "metadata": {},
   "source": [
    "### fit all blobs in a 22 x 15 empy image upper left corner"
   ]
  },
  {
   "cell_type": "code",
   "execution_count": 13,
   "metadata": {},
   "outputs": [
    {
     "name": "stdout",
     "output_type": "stream",
     "text": [
      "CPU times: user 7.59 s, sys: 3.36 s, total: 10.9 s\n",
      "Wall time: 10.2 s\n"
     ]
    }
   ],
   "source": [
    "%%time\n",
    "\n",
    "def doJob(df2):\n",
    "    lst = []\n",
    "    for i, d in df2.iterrows():\n",
    "        wall = np.zeros((22, 15),dtype=np.float64)\n",
    "        wall[0:d.TouchH, 0:d.TouchW] = d.Matrix[d.TouchY:(d.TouchY+d.TouchH), d.TouchX:(d.TouchX+d.TouchW)]\n",
    "        lst.append(wall)\n",
    "    return lst\n",
    "\n",
    "p = Pool(cpu_count)\n",
    "\n",
    "data =  np.array_split(df, cpu_count)\n",
    "pool_results = p.map(doJob, data)\n",
    "p.close()\n",
    "del data\n",
    "results = []\n",
    "for result in pool_results:\n",
    "    results.extend(result)\n",
    "    \n",
    "df[\"MatrixCroppedSameSize\"] = results"
   ]
  },
  {
   "cell_type": "code",
   "execution_count": 14,
   "metadata": {},
   "outputs": [
    {
     "data": {
      "text/html": [
       "<div>\n",
       "<style scoped>\n",
       "    .dataframe tbody tr th:only-of-type {\n",
       "        vertical-align: middle;\n",
       "    }\n",
       "\n",
       "    .dataframe tbody tr th {\n",
       "        vertical-align: top;\n",
       "    }\n",
       "\n",
       "    .dataframe thead th {\n",
       "        text-align: right;\n",
       "    }\n",
       "</style>\n",
       "<table border=\"1\" class=\"dataframe\">\n",
       "  <thead>\n",
       "    <tr style=\"text-align: right;\">\n",
       "      <th></th>\n",
       "      <th>Pair</th>\n",
       "      <th>Participant</th>\n",
       "      <th>Condition</th>\n",
       "      <th>Matrix</th>\n",
       "      <th>Pitch</th>\n",
       "      <th>Yaw</th>\n",
       "      <th>TimeOffset</th>\n",
       "      <th>IsFlipped</th>\n",
       "      <th>TouchX</th>\n",
       "      <th>TouchY</th>\n",
       "      <th>TouchH</th>\n",
       "      <th>TouchW</th>\n",
       "      <th>MatrixCropped</th>\n",
       "      <th>MatrixCroppedSameSize</th>\n",
       "    </tr>\n",
       "  </thead>\n",
       "  <tbody>\n",
       "    <tr>\n",
       "      <th>214</th>\n",
       "      <td>107</td>\n",
       "      <td>1</td>\n",
       "      <td>2</td>\n",
       "      <td>[[220, 0, 0, -3, -2, -3, -1, -1, -1, 0, 0, -27...</td>\n",
       "      <td>14.614879</td>\n",
       "      <td>-88.972128</td>\n",
       "      <td>-0.000106</td>\n",
       "      <td>True</td>\n",
       "      <td>0</td>\n",
       "      <td>9</td>\n",
       "      <td>9</td>\n",
       "      <td>7</td>\n",
       "      <td>[[11.0, 13.0, 13.0, 13.0, 13.0, 7.0, 0.0], [16...</td>\n",
       "      <td>[[11.0, 13.0, 13.0, 13.0, 13.0, 7.0, 1.0, 0.0,...</td>\n",
       "    </tr>\n",
       "    <tr>\n",
       "      <th>215</th>\n",
       "      <td>107</td>\n",
       "      <td>1</td>\n",
       "      <td>2</td>\n",
       "      <td>[[0, 0, -2, -27, 0, 0, -1, -1, -1, -3, -2, -3,...</td>\n",
       "      <td>14.614879</td>\n",
       "      <td>88.972128</td>\n",
       "      <td>-0.000106</td>\n",
       "      <td>False</td>\n",
       "      <td>7</td>\n",
       "      <td>9</td>\n",
       "      <td>9</td>\n",
       "      <td>8</td>\n",
       "      <td>[[0.0, 0.0, 7.0, 13.0, 13.0, 13.0, 13.0, 11.0]...</td>\n",
       "      <td>[[1.0, 1.0, 7.0, 13.0, 13.0, 13.0, 13.0, 11.0,...</td>\n",
       "    </tr>\n",
       "    <tr>\n",
       "      <th>216</th>\n",
       "      <td>108</td>\n",
       "      <td>1</td>\n",
       "      <td>2</td>\n",
       "      <td>[[220, 0, 0, -3, -2, -3, -1, -1, -1, 0, 0, -27...</td>\n",
       "      <td>28.088492</td>\n",
       "      <td>-78.902481</td>\n",
       "      <td>-0.000926</td>\n",
       "      <td>True</td>\n",
       "      <td>0</td>\n",
       "      <td>9</td>\n",
       "      <td>9</td>\n",
       "      <td>7</td>\n",
       "      <td>[[8.0, 10.0, 9.0, 10.0, 8.0, 4.0, 0.0], [15.0,...</td>\n",
       "      <td>[[8.0, 10.0, 9.0, 10.0, 8.0, 4.0, 1.0, 0.0, 0....</td>\n",
       "    </tr>\n",
       "    <tr>\n",
       "      <th>217</th>\n",
       "      <td>108</td>\n",
       "      <td>1</td>\n",
       "      <td>2</td>\n",
       "      <td>[[0, 0, -2, -27, 0, 0, -1, -1, -1, -3, -2, -3,...</td>\n",
       "      <td>28.088492</td>\n",
       "      <td>78.902481</td>\n",
       "      <td>-0.000926</td>\n",
       "      <td>False</td>\n",
       "      <td>7</td>\n",
       "      <td>9</td>\n",
       "      <td>9</td>\n",
       "      <td>8</td>\n",
       "      <td>[[0.0, 0.0, 4.0, 8.0, 10.0, 9.0, 10.0, 8.0], [...</td>\n",
       "      <td>[[2.0, 1.0, 4.0, 8.0, 10.0, 9.0, 10.0, 8.0, 0....</td>\n",
       "    </tr>\n",
       "    <tr>\n",
       "      <th>218</th>\n",
       "      <td>109</td>\n",
       "      <td>1</td>\n",
       "      <td>2</td>\n",
       "      <td>[[0, 0, -2, -27, 0, 0, -1, -1, -1, -3, -2, -3,...</td>\n",
       "      <td>28.257708</td>\n",
       "      <td>79.029943</td>\n",
       "      <td>-0.001010</td>\n",
       "      <td>False</td>\n",
       "      <td>7</td>\n",
       "      <td>10</td>\n",
       "      <td>8</td>\n",
       "      <td>8</td>\n",
       "      <td>[[0.0, 0.0, 6.0, 8.0, 12.0, 12.0, 11.0, 11.0],...</td>\n",
       "      <td>[[2.0, 3.0, 6.0, 8.0, 12.0, 12.0, 11.0, 11.0, ...</td>\n",
       "    </tr>\n",
       "  </tbody>\n",
       "</table>\n",
       "</div>"
      ],
      "text/plain": [
       "     Pair  Participant  Condition  \\\n",
       "214   107            1          2   \n",
       "215   107            1          2   \n",
       "216   108            1          2   \n",
       "217   108            1          2   \n",
       "218   109            1          2   \n",
       "\n",
       "                                                Matrix      Pitch        Yaw  \\\n",
       "214  [[220, 0, 0, -3, -2, -3, -1, -1, -1, 0, 0, -27...  14.614879 -88.972128   \n",
       "215  [[0, 0, -2, -27, 0, 0, -1, -1, -1, -3, -2, -3,...  14.614879  88.972128   \n",
       "216  [[220, 0, 0, -3, -2, -3, -1, -1, -1, 0, 0, -27...  28.088492 -78.902481   \n",
       "217  [[0, 0, -2, -27, 0, 0, -1, -1, -1, -3, -2, -3,...  28.088492  78.902481   \n",
       "218  [[0, 0, -2, -27, 0, 0, -1, -1, -1, -3, -2, -3,...  28.257708  79.029943   \n",
       "\n",
       "     TimeOffset  IsFlipped  TouchX  TouchY  TouchH  TouchW  \\\n",
       "214   -0.000106       True       0       9       9       7   \n",
       "215   -0.000106      False       7       9       9       8   \n",
       "216   -0.000926       True       0       9       9       7   \n",
       "217   -0.000926      False       7       9       9       8   \n",
       "218   -0.001010      False       7      10       8       8   \n",
       "\n",
       "                                         MatrixCropped  \\\n",
       "214  [[11.0, 13.0, 13.0, 13.0, 13.0, 7.0, 0.0], [16...   \n",
       "215  [[0.0, 0.0, 7.0, 13.0, 13.0, 13.0, 13.0, 11.0]...   \n",
       "216  [[8.0, 10.0, 9.0, 10.0, 8.0, 4.0, 0.0], [15.0,...   \n",
       "217  [[0.0, 0.0, 4.0, 8.0, 10.0, 9.0, 10.0, 8.0], [...   \n",
       "218  [[0.0, 0.0, 6.0, 8.0, 12.0, 12.0, 11.0, 11.0],...   \n",
       "\n",
       "                                 MatrixCroppedSameSize  \n",
       "214  [[11.0, 13.0, 13.0, 13.0, 13.0, 7.0, 1.0, 0.0,...  \n",
       "215  [[1.0, 1.0, 7.0, 13.0, 13.0, 13.0, 13.0, 11.0,...  \n",
       "216  [[8.0, 10.0, 9.0, 10.0, 8.0, 4.0, 1.0, 0.0, 0....  \n",
       "217  [[2.0, 1.0, 4.0, 8.0, 10.0, 9.0, 10.0, 8.0, 0....  \n",
       "218  [[2.0, 3.0, 6.0, 8.0, 12.0, 12.0, 11.0, 11.0, ...  "
      ]
     },
     "execution_count": 14,
     "metadata": {},
     "output_type": "execute_result"
    }
   ],
   "source": [
    "df.head()"
   ]
  },
  {
   "cell_type": "code",
   "execution_count": 15,
   "metadata": {},
   "outputs": [
    {
     "data": {
      "image/png": "[encoded data removed]",
      "text/plain": [
       "<Figure size 432x288 with 1 Axes>"
      ]
     },
     "metadata": {
      "needs_background": "light"
     },
     "output_type": "display_data"
    }
   ],
   "source": [
    "plt.imshow(df.iloc[1234].MatrixCroppedSameSize)\n",
    "plt.show()"
   ]
  },
  {
   "cell_type": "code",
   "execution_count": 16,
   "metadata": {
    "tags": []
   },
   "outputs": [],
   "source": [
    "df.to_pickle(\"./data/all_data.pkl\")"
   ]
  }
 ],
 "metadata": {
  "kernelspec": {
   "display_name": "Python 3 (ipykernel)",
   "language": "python",
   "name": "python3"
  },
  "language_info": {
   "codemirror_mode": {
    "name": "ipython",
    "version": 3
   },
   "file_extension": ".py",
   "mimetype": "text/x-python",
   "name": "python",
   "nbconvert_exporter": "python",
   "pygments_lexer": "ipython3",
   "version": "3.8.10"
  }
 },
 "nbformat": 4,
 "nbformat_minor": 4
}
